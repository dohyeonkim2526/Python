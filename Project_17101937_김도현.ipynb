{
 "cells": [
  {
   "cell_type": "code",
   "execution_count": 1,
   "metadata": {},
   "outputs": [],
   "source": [
    "import pandas as pd\n",
    "import numpy as np\n",
    "import matplotlib.pyplot as plt\n",
    "from sklearn.ensemble import RandomForestRegressor, GradientBoostingRegressor, AdaBoostRegressor\n",
    "from sklearn.tree import DecisionTreeRegressor\n",
    "from sklearn.linear_model import LogisticRegression\n",
    "from scipy.stats.stats import pearsonr\n",
    "from sklearn.model_selection import train_test_split\n",
    "from sklearn.model_selection import cross_val_score\n",
    "from sklearn.metrics import median_absolute_error\n",
    "\n",
    "from pandas.tseries.holiday import USFederalHolidayCalendar\n",
    "from pandas.tseries.offsets import CustomBusinessDay "
   ]
  },
  {
   "cell_type": "code",
   "execution_count": 2,
   "metadata": {},
   "outputs": [],
   "source": [
    "trip_df=pd.read_csv('C:/Users/user/Desktop/　　　/2020-1학기/금_데이터마이닝/SF_bike_data/trip.csv')\n",
    "station_df=pd.read_csv('C:/Users/user/Desktop/　　　/2020-1학기/금_데이터마이닝/SF_bike_data/station.csv')\n",
    "weather_df=pd.read_csv('C:/Users/user/Desktop/　　　/2020-1학기/금_데이터마이닝/SF_bike_data/weather.csv')"
   ]
  },
  {
   "cell_type": "code",
   "execution_count": 4,
   "metadata": {},
   "outputs": [
    {
     "data": {
      "text/html": [
       "<div>\n",
       "<style scoped>\n",
       "    .dataframe tbody tr th:only-of-type {\n",
       "        vertical-align: middle;\n",
       "    }\n",
       "\n",
       "    .dataframe tbody tr th {\n",
       "        vertical-align: top;\n",
       "    }\n",
       "\n",
       "    .dataframe thead th {\n",
       "        text-align: right;\n",
       "    }\n",
       "</style>\n",
       "<table border=\"1\" class=\"dataframe\">\n",
       "  <thead>\n",
       "    <tr style=\"text-align: right;\">\n",
       "      <th></th>\n",
       "      <th>id</th>\n",
       "      <th>duration</th>\n",
       "      <th>start_date</th>\n",
       "      <th>start_station_name</th>\n",
       "      <th>start_station_id</th>\n",
       "      <th>end_date</th>\n",
       "      <th>end_station_name</th>\n",
       "      <th>end_station_id</th>\n",
       "      <th>bike_id</th>\n",
       "      <th>subscription_type</th>\n",
       "      <th>zip_code</th>\n",
       "    </tr>\n",
       "  </thead>\n",
       "  <tbody>\n",
       "    <tr>\n",
       "      <th>0</th>\n",
       "      <td>4576</td>\n",
       "      <td>63</td>\n",
       "      <td>8/29/2013 14:13</td>\n",
       "      <td>South Van Ness at Market</td>\n",
       "      <td>66</td>\n",
       "      <td>8/29/2013 14:14</td>\n",
       "      <td>South Van Ness at Market</td>\n",
       "      <td>66</td>\n",
       "      <td>520</td>\n",
       "      <td>Subscriber</td>\n",
       "      <td>94127</td>\n",
       "    </tr>\n",
       "    <tr>\n",
       "      <th>1</th>\n",
       "      <td>4607</td>\n",
       "      <td>70</td>\n",
       "      <td>8/29/2013 14:42</td>\n",
       "      <td>San Jose City Hall</td>\n",
       "      <td>10</td>\n",
       "      <td>8/29/2013 14:43</td>\n",
       "      <td>San Jose City Hall</td>\n",
       "      <td>10</td>\n",
       "      <td>661</td>\n",
       "      <td>Subscriber</td>\n",
       "      <td>95138</td>\n",
       "    </tr>\n",
       "    <tr>\n",
       "      <th>2</th>\n",
       "      <td>4130</td>\n",
       "      <td>71</td>\n",
       "      <td>8/29/2013 10:16</td>\n",
       "      <td>Mountain View City Hall</td>\n",
       "      <td>27</td>\n",
       "      <td>8/29/2013 10:17</td>\n",
       "      <td>Mountain View City Hall</td>\n",
       "      <td>27</td>\n",
       "      <td>48</td>\n",
       "      <td>Subscriber</td>\n",
       "      <td>97214</td>\n",
       "    </tr>\n",
       "    <tr>\n",
       "      <th>3</th>\n",
       "      <td>4251</td>\n",
       "      <td>77</td>\n",
       "      <td>8/29/2013 11:29</td>\n",
       "      <td>San Jose City Hall</td>\n",
       "      <td>10</td>\n",
       "      <td>8/29/2013 11:30</td>\n",
       "      <td>San Jose City Hall</td>\n",
       "      <td>10</td>\n",
       "      <td>26</td>\n",
       "      <td>Subscriber</td>\n",
       "      <td>95060</td>\n",
       "    </tr>\n",
       "    <tr>\n",
       "      <th>4</th>\n",
       "      <td>4299</td>\n",
       "      <td>83</td>\n",
       "      <td>8/29/2013 12:02</td>\n",
       "      <td>South Van Ness at Market</td>\n",
       "      <td>66</td>\n",
       "      <td>8/29/2013 12:04</td>\n",
       "      <td>Market at 10th</td>\n",
       "      <td>67</td>\n",
       "      <td>319</td>\n",
       "      <td>Subscriber</td>\n",
       "      <td>94103</td>\n",
       "    </tr>\n",
       "  </tbody>\n",
       "</table>\n",
       "</div>"
      ],
      "text/plain": [
       "     id  duration       start_date        start_station_name  \\\n",
       "0  4576        63  8/29/2013 14:13  South Van Ness at Market   \n",
       "1  4607        70  8/29/2013 14:42        San Jose City Hall   \n",
       "2  4130        71  8/29/2013 10:16   Mountain View City Hall   \n",
       "3  4251        77  8/29/2013 11:29        San Jose City Hall   \n",
       "4  4299        83  8/29/2013 12:02  South Van Ness at Market   \n",
       "\n",
       "   start_station_id         end_date          end_station_name  \\\n",
       "0                66  8/29/2013 14:14  South Van Ness at Market   \n",
       "1                10  8/29/2013 14:43        San Jose City Hall   \n",
       "2                27  8/29/2013 10:17   Mountain View City Hall   \n",
       "3                10  8/29/2013 11:30        San Jose City Hall   \n",
       "4                66  8/29/2013 12:04            Market at 10th   \n",
       "\n",
       "   end_station_id  bike_id subscription_type zip_code  \n",
       "0              66      520        Subscriber    94127  \n",
       "1              10      661        Subscriber    95138  \n",
       "2              27       48        Subscriber    97214  \n",
       "3              10       26        Subscriber    95060  \n",
       "4              67      319        Subscriber    94103  "
      ]
     },
     "execution_count": 4,
     "metadata": {},
     "output_type": "execute_result"
    }
   ],
   "source": [
    "trip_df.head()"
   ]
  },
  {
   "cell_type": "code",
   "execution_count": 5,
   "metadata": {},
   "outputs": [
    {
     "data": {
      "text/plain": [
       "id                     int64\n",
       "duration               int64\n",
       "start_date            object\n",
       "start_station_name    object\n",
       "start_station_id       int64\n",
       "end_date              object\n",
       "end_station_name      object\n",
       "end_station_id         int64\n",
       "bike_id                int64\n",
       "subscription_type     object\n",
       "zip_code              object\n",
       "dtype: object"
      ]
     },
     "execution_count": 5,
     "metadata": {},
     "output_type": "execute_result"
    }
   ],
   "source": [
    "trip_df.dtypes"
   ]
  },
  {
   "cell_type": "code",
   "execution_count": 7,
   "metadata": {},
   "outputs": [
    {
     "data": {
      "text/plain": [
       "count    669959.000000\n",
       "mean         18.465831\n",
       "std         370.923950\n",
       "min           1.000000\n",
       "25%           5.733333\n",
       "50%           8.616667\n",
       "75%          12.583333\n",
       "max      287840.000000\n",
       "Name: duration, dtype: float64"
      ]
     },
     "execution_count": 7,
     "metadata": {},
     "output_type": "execute_result"
    }
   ],
   "source": [
    "trip_df.duration /= 60\n",
    "trip_df.duration.describe()"
   ]
  },
  {
   "cell_type": "code",
   "execution_count": 9,
   "metadata": {},
   "outputs": [],
   "source": [
    "#370분(평균) 이하의 값만 trip time으로 사용한다.\n",
    "trip_df2=trip_df[trip_df.duration <= 370]"
   ]
  },
  {
   "cell_type": "code",
   "execution_count": 12,
   "metadata": {},
   "outputs": [
    {
     "name": "stderr",
     "output_type": "stream",
     "text": [
      "C:\\Users\\user\\anaconda3\\lib\\site-packages\\ipykernel_launcher.py:4: SettingWithCopyWarning: \n",
      "A value is trying to be set on a copy of a slice from a DataFrame.\n",
      "Try using .loc[row_indexer,col_indexer] = value instead\n",
      "\n",
      "See the caveats in the documentation: https://pandas.pydata.org/pandas-docs/stable/user_guide/indexing.html#returning-a-view-versus-a-copy\n",
      "  after removing the cwd from sys.path.\n"
     ]
    }
   ],
   "source": [
    "#convert start_date, end_date to datetime\n",
    "#start_date와 end_date가 같으므로 start_date에 대해서만 year,month,day 정보 추출\n",
    "trip_df2.start_date=pd.to_datetime(trip_df2.start_date, format='%m/%d/%Y %H:%M')\n",
    "trip_df2['date'] = trip_df2.start_date.dt.date"
   ]
  },
  {
   "cell_type": "code",
   "execution_count": 13,
   "metadata": {},
   "outputs": [],
   "source": [
    "#해당 날짜에 얼마나 많은 trip이 일어났는지 알아보기\n",
    "dates={}\n",
    "for i in trip_df2.date:\n",
    "    if i not in dates:\n",
    "        dates[i] = 1\n",
    "    else:\n",
    "        dates[i] += 1\n",
    "        \n",
    "#dates안에 있는 정보들을 가지고 training을 진행할 것이다.\n",
    "data = pd.DataFrame.from_dict(dates,'index')\n",
    "data['date'] = data.index #데이터프레임 data의 해당 인덱스가 날자를 의미하므로, 인덱스를 통해 'date'에 관한 열 생성\n",
    "data.columns=['trips', 'date']\n",
    "\n",
    "#train set생성\n",
    "train=data[:]\n",
    "train.reset_index(drop=True, inplace=True)"
   ]
  },
  {
   "cell_type": "code",
   "execution_count": null,
   "metadata": {},
   "outputs": [],
   "source": []
  },
  {
   "cell_type": "code",
   "execution_count": 14,
   "metadata": {},
   "outputs": [],
   "source": [
    "weather_df.date=pd.to_datetime(weather_df.date, format='%m/%d/%Y')\n",
    "weather_df['date'] = weather_df.date.dt.date"
   ]
  },
  {
   "cell_type": "code",
   "execution_count": 15,
   "metadata": {},
   "outputs": [
    {
     "name": "stdout",
     "output_type": "stream",
     "text": [
      "(733, 2)\n",
      "(3665, 24)\n"
     ]
    }
   ],
   "source": [
    "print(train.shape)\n",
    "print(weather_df.shape)"
   ]
  },
  {
   "cell_type": "code",
   "execution_count": 68,
   "metadata": {},
   "outputs": [
    {
     "data": {
      "text/plain": [
       "array([94107, 94063, 94301, 94041, 95113], dtype=int64)"
      ]
     },
     "execution_count": 68,
     "metadata": {},
     "output_type": "execute_result"
    }
   ],
   "source": [
    "#weather 안에 있는 zipcode확인\n",
    "weather_df.zip_code.unique()"
   ]
  },
  {
   "cell_type": "code",
   "execution_count": 16,
   "metadata": {},
   "outputs": [
    {
     "name": "stdout",
     "output_type": "stream",
     "text": [
      "date                                0\n",
      "max_temperature_f                   0\n",
      "mean_temperature_f                  0\n",
      "min_temperature_f                   0\n",
      "max_dew_point_f                     0\n",
      "mean_dew_point_f                    0\n",
      "min_dew_point_f                     0\n",
      "max_humidity                        0\n",
      "mean_humidity                       0\n",
      "min_humidity                        0\n",
      "max_sea_level_pressure_inches       0\n",
      "mean_sea_level_pressure_inches      0\n",
      "min_sea_level_pressure_inches       0\n",
      "max_visibility_miles                0\n",
      "mean_visibility_miles               0\n",
      "min_visibility_miles                0\n",
      "max_wind_Speed_mph                  0\n",
      "mean_wind_speed_mph                 0\n",
      "max_gust_speed_mph                 13\n",
      "precipitation_inches                0\n",
      "cloud_cover                         0\n",
      "events                            574\n",
      "wind_dir_degrees                    0\n",
      "zip_code                            0\n",
      "dtype: int64\n",
      "\n",
      "date                                0\n",
      "max_temperature_f                   0\n",
      "mean_temperature_f                  0\n",
      "min_temperature_f                   0\n",
      "max_dew_point_f                     0\n",
      "mean_dew_point_f                    0\n",
      "min_dew_point_f                     0\n",
      "max_humidity                        0\n",
      "mean_humidity                       0\n",
      "min_humidity                        0\n",
      "max_sea_level_pressure_inches       0\n",
      "mean_sea_level_pressure_inches      0\n",
      "min_sea_level_pressure_inches       0\n",
      "max_visibility_miles                0\n",
      "mean_visibility_miles               0\n",
      "min_visibility_miles                0\n",
      "max_wind_Speed_mph                  0\n",
      "mean_wind_speed_mph                 0\n",
      "max_gust_speed_mph                412\n",
      "precipitation_inches                0\n",
      "cloud_cover                         0\n",
      "events                            639\n",
      "wind_dir_degrees                    0\n",
      "zip_code                            0\n",
      "dtype: int64\n",
      "\n",
      "date                                0\n",
      "max_temperature_f                   1\n",
      "mean_temperature_f                  1\n",
      "min_temperature_f                   1\n",
      "max_dew_point_f                    51\n",
      "mean_dew_point_f                   51\n",
      "min_dew_point_f                    51\n",
      "max_humidity                       51\n",
      "mean_humidity                      51\n",
      "min_humidity                       51\n",
      "max_sea_level_pressure_inches       1\n",
      "mean_sea_level_pressure_inches      1\n",
      "min_sea_level_pressure_inches       1\n",
      "max_visibility_miles               13\n",
      "mean_visibility_miles              13\n",
      "min_visibility_miles               13\n",
      "max_wind_Speed_mph                  1\n",
      "mean_wind_speed_mph                 1\n",
      "max_gust_speed_mph                453\n",
      "precipitation_inches                1\n",
      "cloud_cover                         1\n",
      "events                            653\n",
      "wind_dir_degrees                    1\n",
      "zip_code                            0\n",
      "dtype: int64\n",
      "\n",
      "date                                0\n",
      "max_temperature_f                   3\n",
      "mean_temperature_f                  3\n",
      "min_temperature_f                   3\n",
      "max_dew_point_f                     3\n",
      "mean_dew_point_f                    3\n",
      "min_dew_point_f                     3\n",
      "max_humidity                        3\n",
      "mean_humidity                       3\n",
      "min_humidity                        3\n",
      "max_sea_level_pressure_inches       0\n",
      "mean_sea_level_pressure_inches      0\n",
      "min_sea_level_pressure_inches       0\n",
      "max_visibility_miles                0\n",
      "mean_visibility_miles               0\n",
      "min_visibility_miles                0\n",
      "max_wind_Speed_mph                  0\n",
      "mean_wind_speed_mph                 0\n",
      "max_gust_speed_mph                  9\n",
      "precipitation_inches                0\n",
      "cloud_cover                         0\n",
      "events                            639\n",
      "wind_dir_degrees                    0\n",
      "zip_code                            0\n",
      "dtype: int64\n",
      "\n",
      "date                                0\n",
      "max_temperature_f                   0\n",
      "mean_temperature_f                  0\n",
      "min_temperature_f                   0\n",
      "max_dew_point_f                     0\n",
      "mean_dew_point_f                    0\n",
      "min_dew_point_f                     0\n",
      "max_humidity                        0\n",
      "mean_humidity                       0\n",
      "min_humidity                        0\n",
      "max_sea_level_pressure_inches       0\n",
      "mean_sea_level_pressure_inches      0\n",
      "min_sea_level_pressure_inches       0\n",
      "max_visibility_miles                0\n",
      "mean_visibility_miles               0\n",
      "min_visibility_miles                0\n",
      "max_wind_Speed_mph                  0\n",
      "mean_wind_speed_mph                 0\n",
      "max_gust_speed_mph                 12\n",
      "precipitation_inches                0\n",
      "cloud_cover                         0\n",
      "events                            638\n",
      "wind_dir_degrees                    0\n",
      "zip_code                            0\n",
      "dtype: int64\n",
      "\n"
     ]
    }
   ],
   "source": [
    "for zip in weather_df.zip_code.unique():\n",
    "    print(weather_df[weather_df.zip_code == zip].isnull().sum())\n",
    "    print()"
   ]
  },
  {
   "cell_type": "code",
   "execution_count": 17,
   "metadata": {},
   "outputs": [],
   "source": [
    "#zip_code에 대해서 확인해봤을 때, zip_code='94107'에서 null 값의 수가 적다는 것을 알 수 있었고,\n",
    "#zip_code = 94107에 대해서 train을 진행할 것임\n",
    "weather=weather_df[weather_df.zip_code==94107]"
   ]
  },
  {
   "cell_type": "code",
   "execution_count": null,
   "metadata": {},
   "outputs": [],
   "source": []
  },
  {
   "cell_type": "code",
   "execution_count": 18,
   "metadata": {},
   "outputs": [
    {
     "data": {
      "text/plain": [
       "array([nan, 'Fog', 'Rain', 'Fog-Rain', 'rain', 'Rain-Thunderstorm'],\n",
       "      dtype=object)"
      ]
     },
     "execution_count": 18,
     "metadata": {},
     "output_type": "execute_result"
    }
   ],
   "source": [
    "weather.events.unique()"
   ]
  },
  {
   "cell_type": "code",
   "execution_count": 20,
   "metadata": {},
   "outputs": [],
   "source": [
    "#'rain'과 'Rain'에 대해서 다른 경우로 나눠져 있다는 것을 알 수 있는데\n",
    "#비가 오는 동일한 날씨이므로 'rain'을 'Rain으로 바꿔주고\n",
    "#null값에 대해서는 보통인 날씨 'Normal'로 값을 바꿔준다.\n",
    "weather.loc[weather.events=='rain','events']=\"Rain\"\n",
    "weather.loc[weather.events.isnull(), 'events']=\"Normal\""
   ]
  },
  {
   "cell_type": "code",
   "execution_count": 21,
   "metadata": {},
   "outputs": [
    {
     "data": {
      "text/plain": [
       "0       Normal\n",
       "1       Normal\n",
       "2       Normal\n",
       "3       Normal\n",
       "4       Normal\n",
       "         ...  \n",
       "2200    Normal\n",
       "2201    Normal\n",
       "2202      Rain\n",
       "2203    Normal\n",
       "2204    Normal\n",
       "Name: events, Length: 733, dtype: object"
      ]
     },
     "execution_count": 21,
     "metadata": {},
     "output_type": "execute_result"
    }
   ],
   "source": [
    "weather.events"
   ]
  },
  {
   "cell_type": "code",
   "execution_count": 22,
   "metadata": {},
   "outputs": [],
   "source": [
    "events=pd.get_dummies(weather.events) #해당날씨이면 1, 아니면 0"
   ]
  },
  {
   "cell_type": "code",
   "execution_count": 23,
   "metadata": {},
   "outputs": [
    {
     "name": "stdout",
     "output_type": "stream",
     "text": [
      "(0.7888476832259103, 6.027203207272198e-154)\n"
     ]
    }
   ],
   "source": [
    "#기존의 weather과 events(pd.get_dummis) 데이터프레임 합침\n",
    "weather=weather.merge(events, left_index=True, right_index=True)\n",
    "\n",
    "#사용하지 않는 events, zip_code에 대한 열 제거\n",
    "weather=weather.drop(['events','zip_code'],1)\n",
    "\n",
    "from scipy.stats.stats import pearsonr\n",
    "print (pearsonr(weather.max_wind_Speed_mph[weather.max_gust_speed_mph >= 0], \n",
    "               weather.max_gust_speed_mph[weather.max_gust_speed_mph >= 0]))"
   ]
  },
  {
   "cell_type": "code",
   "execution_count": 24,
   "metadata": {},
   "outputs": [],
   "source": [
    "#weather 데이터 프레임을 보면 max_gust에 대해서 null값이 있다는 것을 알 수 있다.\n",
    "#상관관계 분석(pearsonr)을 통해 wind(바람)과 gust(세찬 바람)은 서로 관련이 있다는 것을 알았으므로, max_gust의 null값에 대해서 max_wind값을 이용하여 채워줄 것이다.\n",
    "weather.loc[weather.max_gust_speed_mph.isnull(), 'max_gust_speed_mph'] = weather.groupby('max_wind_Speed_mph').max_gust_speed_mph.apply(lambda x: x.fillna(x.median()))"
   ]
  },
  {
   "cell_type": "code",
   "execution_count": 25,
   "metadata": {},
   "outputs": [
    {
     "data": {
      "text/plain": [
       "date                              0\n",
       "max_temperature_f                 0\n",
       "mean_temperature_f                0\n",
       "min_temperature_f                 0\n",
       "max_dew_point_f                   0\n",
       "mean_dew_point_f                  0\n",
       "min_dew_point_f                   0\n",
       "max_humidity                      0\n",
       "mean_humidity                     0\n",
       "min_humidity                      0\n",
       "max_sea_level_pressure_inches     0\n",
       "mean_sea_level_pressure_inches    0\n",
       "min_sea_level_pressure_inches     0\n",
       "max_visibility_miles              0\n",
       "mean_visibility_miles             0\n",
       "min_visibility_miles              0\n",
       "max_wind_Speed_mph                0\n",
       "mean_wind_speed_mph               0\n",
       "max_gust_speed_mph                0\n",
       "precipitation_inches              0\n",
       "cloud_cover                       0\n",
       "wind_dir_degrees                  0\n",
       "Fog                               0\n",
       "Fog-Rain                          0\n",
       "Normal                            0\n",
       "Rain                              0\n",
       "Rain-Thunderstorm                 0\n",
       "dtype: int64"
      ]
     },
     "execution_count": 25,
     "metadata": {},
     "output_type": "execute_result"
    }
   ],
   "source": [
    "weather.isnull().sum() #null값이 모두 채워진것을 확인"
   ]
  },
  {
   "cell_type": "code",
   "execution_count": 26,
   "metadata": {},
   "outputs": [
    {
     "data": {
      "text/html": [
       "<div>\n",
       "<style scoped>\n",
       "    .dataframe tbody tr th:only-of-type {\n",
       "        vertical-align: middle;\n",
       "    }\n",
       "\n",
       "    .dataframe tbody tr th {\n",
       "        vertical-align: top;\n",
       "    }\n",
       "\n",
       "    .dataframe thead th {\n",
       "        text-align: right;\n",
       "    }\n",
       "</style>\n",
       "<table border=\"1\" class=\"dataframe\">\n",
       "  <thead>\n",
       "    <tr style=\"text-align: right;\">\n",
       "      <th></th>\n",
       "      <th>date</th>\n",
       "      <th>max_temperature_f</th>\n",
       "      <th>mean_temperature_f</th>\n",
       "      <th>min_temperature_f</th>\n",
       "      <th>max_dew_point_f</th>\n",
       "      <th>mean_dew_point_f</th>\n",
       "      <th>min_dew_point_f</th>\n",
       "      <th>max_humidity</th>\n",
       "      <th>mean_humidity</th>\n",
       "      <th>min_humidity</th>\n",
       "      <th>...</th>\n",
       "      <th>max_gust_speed_mph</th>\n",
       "      <th>precipitation_inches</th>\n",
       "      <th>cloud_cover</th>\n",
       "      <th>wind_dir_degrees</th>\n",
       "      <th>Fog</th>\n",
       "      <th>Fog-Rain</th>\n",
       "      <th>Normal</th>\n",
       "      <th>Rain</th>\n",
       "      <th>Rain-Thunderstorm</th>\n",
       "      <th>trips</th>\n",
       "    </tr>\n",
       "  </thead>\n",
       "  <tbody>\n",
       "    <tr>\n",
       "      <th>0</th>\n",
       "      <td>2013-08-29</td>\n",
       "      <td>74.0</td>\n",
       "      <td>68.0</td>\n",
       "      <td>61.0</td>\n",
       "      <td>61.0</td>\n",
       "      <td>58.0</td>\n",
       "      <td>56.0</td>\n",
       "      <td>93.0</td>\n",
       "      <td>75.0</td>\n",
       "      <td>57.0</td>\n",
       "      <td>...</td>\n",
       "      <td>28.0</td>\n",
       "      <td>0.0</td>\n",
       "      <td>4.0</td>\n",
       "      <td>286.0</td>\n",
       "      <td>0</td>\n",
       "      <td>0</td>\n",
       "      <td>1</td>\n",
       "      <td>0</td>\n",
       "      <td>0</td>\n",
       "      <td>743</td>\n",
       "    </tr>\n",
       "    <tr>\n",
       "      <th>1</th>\n",
       "      <td>2013-08-30</td>\n",
       "      <td>78.0</td>\n",
       "      <td>69.0</td>\n",
       "      <td>60.0</td>\n",
       "      <td>61.0</td>\n",
       "      <td>58.0</td>\n",
       "      <td>56.0</td>\n",
       "      <td>90.0</td>\n",
       "      <td>70.0</td>\n",
       "      <td>50.0</td>\n",
       "      <td>...</td>\n",
       "      <td>35.0</td>\n",
       "      <td>0.0</td>\n",
       "      <td>2.0</td>\n",
       "      <td>291.0</td>\n",
       "      <td>0</td>\n",
       "      <td>0</td>\n",
       "      <td>1</td>\n",
       "      <td>0</td>\n",
       "      <td>0</td>\n",
       "      <td>699</td>\n",
       "    </tr>\n",
       "    <tr>\n",
       "      <th>2</th>\n",
       "      <td>2013-08-31</td>\n",
       "      <td>71.0</td>\n",
       "      <td>64.0</td>\n",
       "      <td>57.0</td>\n",
       "      <td>57.0</td>\n",
       "      <td>56.0</td>\n",
       "      <td>54.0</td>\n",
       "      <td>93.0</td>\n",
       "      <td>75.0</td>\n",
       "      <td>57.0</td>\n",
       "      <td>...</td>\n",
       "      <td>31.0</td>\n",
       "      <td>0.0</td>\n",
       "      <td>4.0</td>\n",
       "      <td>284.0</td>\n",
       "      <td>0</td>\n",
       "      <td>0</td>\n",
       "      <td>1</td>\n",
       "      <td>0</td>\n",
       "      <td>0</td>\n",
       "      <td>628</td>\n",
       "    </tr>\n",
       "    <tr>\n",
       "      <th>3</th>\n",
       "      <td>2013-09-01</td>\n",
       "      <td>74.0</td>\n",
       "      <td>66.0</td>\n",
       "      <td>58.0</td>\n",
       "      <td>60.0</td>\n",
       "      <td>56.0</td>\n",
       "      <td>53.0</td>\n",
       "      <td>87.0</td>\n",
       "      <td>68.0</td>\n",
       "      <td>49.0</td>\n",
       "      <td>...</td>\n",
       "      <td>29.0</td>\n",
       "      <td>0.0</td>\n",
       "      <td>4.0</td>\n",
       "      <td>284.0</td>\n",
       "      <td>0</td>\n",
       "      <td>0</td>\n",
       "      <td>1</td>\n",
       "      <td>0</td>\n",
       "      <td>0</td>\n",
       "      <td>684</td>\n",
       "    </tr>\n",
       "    <tr>\n",
       "      <th>4</th>\n",
       "      <td>2013-09-02</td>\n",
       "      <td>75.0</td>\n",
       "      <td>69.0</td>\n",
       "      <td>62.0</td>\n",
       "      <td>61.0</td>\n",
       "      <td>60.0</td>\n",
       "      <td>58.0</td>\n",
       "      <td>93.0</td>\n",
       "      <td>77.0</td>\n",
       "      <td>61.0</td>\n",
       "      <td>...</td>\n",
       "      <td>30.0</td>\n",
       "      <td>0.0</td>\n",
       "      <td>6.0</td>\n",
       "      <td>277.0</td>\n",
       "      <td>0</td>\n",
       "      <td>0</td>\n",
       "      <td>1</td>\n",
       "      <td>0</td>\n",
       "      <td>0</td>\n",
       "      <td>654</td>\n",
       "    </tr>\n",
       "  </tbody>\n",
       "</table>\n",
       "<p>5 rows × 28 columns</p>\n",
       "</div>"
      ],
      "text/plain": [
       "         date  max_temperature_f  mean_temperature_f  min_temperature_f  \\\n",
       "0  2013-08-29               74.0                68.0               61.0   \n",
       "1  2013-08-30               78.0                69.0               60.0   \n",
       "2  2013-08-31               71.0                64.0               57.0   \n",
       "3  2013-09-01               74.0                66.0               58.0   \n",
       "4  2013-09-02               75.0                69.0               62.0   \n",
       "\n",
       "   max_dew_point_f  mean_dew_point_f  min_dew_point_f  max_humidity  \\\n",
       "0             61.0              58.0             56.0          93.0   \n",
       "1             61.0              58.0             56.0          90.0   \n",
       "2             57.0              56.0             54.0          93.0   \n",
       "3             60.0              56.0             53.0          87.0   \n",
       "4             61.0              60.0             58.0          93.0   \n",
       "\n",
       "   mean_humidity  min_humidity  ...  max_gust_speed_mph  precipitation_inches  \\\n",
       "0           75.0          57.0  ...                28.0                   0.0   \n",
       "1           70.0          50.0  ...                35.0                   0.0   \n",
       "2           75.0          57.0  ...                31.0                   0.0   \n",
       "3           68.0          49.0  ...                29.0                   0.0   \n",
       "4           77.0          61.0  ...                30.0                   0.0   \n",
       "\n",
       "   cloud_cover  wind_dir_degrees  Fog  Fog-Rain  Normal  Rain  \\\n",
       "0          4.0             286.0    0         0       1     0   \n",
       "1          2.0             291.0    0         0       1     0   \n",
       "2          4.0             284.0    0         0       1     0   \n",
       "3          4.0             284.0    0         0       1     0   \n",
       "4          6.0             277.0    0         0       1     0   \n",
       "\n",
       "   Rain-Thunderstorm  trips  \n",
       "0                  0    743  \n",
       "1                  0    699  \n",
       "2                  0    628  \n",
       "3                  0    684  \n",
       "4                  0    654  \n",
       "\n",
       "[5 rows x 28 columns]"
      ]
     },
     "execution_count": 26,
     "metadata": {},
     "output_type": "execute_result"
    }
   ],
   "source": [
    "weather.precipitation_inches = pd.to_numeric(weather.precipitation_inches, errors = 'coerce') #강수량(precipitation_inch) 데이터 타입을 numeric으로 수정함\n",
    "\n",
    "#강수량이 True인 것은 비가 왔음을 의미하므로, 강수량 null에 대해서 강수량의 평균값으로 채워준다.\n",
    "weather.loc[weather.precipitation_inches.isnull(), \n",
    "            'precipitation_inches'] = weather[weather.precipitation_inches.notnull()].precipitation_inches.median()\n",
    "\n",
    "train=pd.merge(weather, train, on='date')\n",
    "train.head()"
   ]
  },
  {
   "cell_type": "code",
   "execution_count": null,
   "metadata": {},
   "outputs": [],
   "source": []
  },
  {
   "cell_type": "code",
   "execution_count": 27,
   "metadata": {},
   "outputs": [
    {
     "data": {
      "text/plain": [
       "70"
      ]
     },
     "execution_count": 27,
     "metadata": {},
     "output_type": "execute_result"
    }
   ],
   "source": [
    "len(station_df.name.unique()) #station_df에 있는 station의 종류가 총70개이고, 중복된 것이 없다는 것을 확인"
   ]
  },
  {
   "cell_type": "code",
   "execution_count": 28,
   "metadata": {},
   "outputs": [],
   "source": [
    "station_df.installation_date=pd.to_datetime(station_df.installation_date, format='%m/%d/%Y')\n",
    "station_df['installation_date'] = station_df.installation_date.dt.date"
   ]
  },
  {
   "cell_type": "code",
   "execution_count": 29,
   "metadata": {},
   "outputs": [],
   "source": [
    "#train DataFrame의 date를 통해, 해당 날짜 이전에 설치가 되어있던 docks의 수를 파악함 \n",
    "total_docks = []\n",
    "for day in train.date:\n",
    "    total_docks.append(sum(station_df[station_df.installation_date <= day].dock_count))\n",
    "\n",
    "train['total_docks'] = total_docks"
   ]
  },
  {
   "cell_type": "code",
   "execution_count": null,
   "metadata": {},
   "outputs": [],
   "source": []
  },
  {
   "cell_type": "code",
   "execution_count": 30,
   "metadata": {},
   "outputs": [],
   "source": [
    "calendar = USFederalHolidayCalendar()\n",
    "holidays = calendar.holidays(start=train.date.min(), end=train.date.max())\n",
    "\n",
    "#holidays를 제외한 business day찾기\n",
    "from pandas.tseries.offsets import CustomBusinessDay \n",
    "business_days = CustomBusinessDay(calendar=USFederalHolidayCalendar())\n",
    "business_days = pd.date_range(start=train.date.min(), end=train.date.max(), freq=business_days)\n",
    "\n",
    "business_days = pd.to_datetime(business_days, format='%Y/%m/%d').date\n",
    "holidays = pd.to_datetime(holidays, format='%Y/%m/%d').date\n",
    "\n",
    "train['business_day'] = train.date.isin(business_days)\n",
    "train['holiday'] = train.date.isin(holidays)"
   ]
  },
  {
   "cell_type": "code",
   "execution_count": 31,
   "metadata": {},
   "outputs": [],
   "source": [
    "#business_day와 holiday의 (True,False)를 (1,0)으로 바꿔준다.\n",
    "train.business_day = train.business_day.map(lambda x: 1 if x == True else 0)\n",
    "train.holiday = train.holiday.map(lambda x: 1 if x == True else 0)"
   ]
  },
  {
   "cell_type": "code",
   "execution_count": 32,
   "metadata": {},
   "outputs": [],
   "source": [
    "#date의 형식 (year,month,day)를 나눠서 열로 저장한다.\n",
    "train['year'] = pd.to_datetime(train['date']).dt.year\n",
    "train['month'] = pd.to_datetime(train['date']).dt.month\n",
    "train['weekday'] = pd.to_datetime(train['date']).dt.weekday"
   ]
  },
  {
   "cell_type": "code",
   "execution_count": 33,
   "metadata": {},
   "outputs": [],
   "source": [
    "#해당 날에 몇 개의 trip이 발생했는지를 알아내야 하므로 train['trip']을 정답 label로 저장한다.\n",
    "labels = train.trips\n",
    "train = train.drop(['trips', 'date'], 1)"
   ]
  },
  {
   "cell_type": "code",
   "execution_count": null,
   "metadata": {},
   "outputs": [],
   "source": []
  },
  {
   "cell_type": "code",
   "execution_count": 34,
   "metadata": {},
   "outputs": [],
   "source": [
    "#train, test data set 준비\n",
    "X_train, X_test, y_train, y_test = train_test_split(train, labels, test_size=0.2, random_state = 2)\n",
    "\n",
    "##trip에 대한 예측이 얼마나 빗나갔는지 아는 것이 목표\n",
    "def score(clf):\n",
    "    scores = cross_val_score(clf, X_train, y_train, cv=15, scoring = 'neg_median_absolute_error')\n",
    "    print (np.median(scores) * -1)"
   ]
  },
  {
   "cell_type": "code",
   "execution_count": 42,
   "metadata": {},
   "outputs": [
    {
     "name": "stdout",
     "output_type": "stream",
     "text": [
      "56.5160101010099\n",
      "58.04004205794217\n",
      "59.599999999999994\n",
      "96.82539682539687\n"
     ]
    }
   ],
   "source": [
    "#모델 설정\n",
    "model1=RandomForestRegressor(n_estimators = 55,\n",
    "                            min_samples_leaf = 3,\n",
    "                            random_state = 2)\n",
    "\n",
    "score(model1)\n",
    "\n",
    "model2=GradientBoostingRegressor(learning_rate = 0.12,\n",
    "                                 n_estimators = 150,\n",
    "                                 max_depth = 8,\n",
    "                                 min_samples_leaf = 1,\n",
    "                                 random_state = 2)\n",
    "score(model2)\n",
    "\n",
    "model3=DecisionTreeRegressor(min_samples_leaf=3,\n",
    "                             max_depth=8,\n",
    "                             random_state=2)\n",
    "score(model3)\n",
    "\n",
    "model4=AdaBoostRegressor(n_estimators=100,\n",
    "                         learning_rate = 0.1,\n",
    "                         loss = 'linear',\n",
    "                         random_state=2)\n",
    "\n",
    "score(model4)"
   ]
  },
  {
   "cell_type": "code",
   "execution_count": 56,
   "metadata": {},
   "outputs": [
    {
     "name": "stdout",
     "output_type": "stream",
     "text": [
      "Daily error of trip count: 50.50574397286823\n"
     ]
    }
   ],
   "source": [
    "#score을 비교했을 때, 성능이 좋은 model1,model2에 대해서 학습을 진행할 것이다.\n",
    "clf1=model1.fit(X_train, y_train)\n",
    "clf2=model2.fit(X_train,y_train)\n",
    "\n",
    "clf1_pred=clf1.predict(X_test)\n",
    "clf2_pred=clf2.predict(X_test)\n",
    "\n",
    "preds=clf1_pred*0.46 + clf2_pred*0.54 #두 모델을 가장 잘 나타낼 수 있는 임계치 부여(여러번의 수정 끝에 찾았음)\n",
    "\n",
    "print(\"Daily error of trip count:\", median_absolute_error(y_test, preds))"
   ]
  },
  {
   "cell_type": "code",
   "execution_count": 58,
   "metadata": {},
   "outputs": [
    {
     "data": {
      "text/plain": [
       "count     733.000000\n",
       "mean      909.982265\n",
       "std       403.808726\n",
       "min        81.000000\n",
       "25%       445.000000\n",
       "50%      1042.000000\n",
       "75%      1264.000000\n",
       "max      1509.000000\n",
       "Name: trips, dtype: float64"
      ]
     },
     "execution_count": 58,
     "metadata": {},
     "output_type": "execute_result"
    }
   ],
   "source": [
    "labels.describe()"
   ]
  },
  {
   "cell_type": "code",
   "execution_count": 59,
   "metadata": {},
   "outputs": [],
   "source": [
    "y_test.reset_index(drop=True, inplace=True)"
   ]
  },
  {
   "cell_type": "code",
   "execution_count": 60,
   "metadata": {},
   "outputs": [
    {
     "data": {
      "image/png": "[encoded data removed]",
      "text/plain": [
       "<Figure size 576x360 with 1 Axes>"
      ]
     },
     "metadata": {
      "needs_background": "light"
     },
     "output_type": "display_data"
    }
   ],
   "source": [
    "plt.figure(figsize=(8,5))\n",
    "plt.plot(preds)\n",
    "plt.plot(y_test)\n",
    "plt.legend(['Pred','Actual'])\n",
    "plt.xlabel(\"Predicted Date\", fontsize=16)\n",
    "plt.ylabel(\"Number of Trips\", fontsize=16)\n",
    "plt.title(\"Comparison of Predicted and Actual Date\", fontsize=16)\n",
    "plt.show()"
   ]
  },
  {
   "cell_type": "code",
   "execution_count": null,
   "metadata": {},
   "outputs": [],
   "source": []
  },
  {
   "cell_type": "code",
   "execution_count": 61,
   "metadata": {},
   "outputs": [
    {
     "name": "stdout",
     "output_type": "stream",
     "text": [
      "Feature rank:\n",
      "0 max_temperature_f\n",
      "1 mean_temperature_f\n",
      "2 min_temperature_f\n",
      "3 max_dew_point_f\n",
      "4 mean_dew_point_f\n",
      "5 min_dew_point_f\n",
      "6 max_humidity\n",
      "7 mean_humidity\n",
      "8 min_humidity\n",
      "9 max_sea_level_pressure_inches\n",
      "10 mean_sea_level_pressure_inches\n",
      "11 min_sea_level_pressure_inches\n",
      "12 max_visibility_miles\n",
      "13 mean_visibility_miles\n",
      "14 min_visibility_miles\n",
      "15 max_wind_Speed_mph\n",
      "16 mean_wind_speed_mph\n",
      "17 max_gust_speed_mph\n",
      "18 precipitation_inches\n",
      "19 cloud_cover\n",
      "20 wind_dir_degrees\n",
      "21 Fog\n",
      "22 Fog-Rain\n",
      "23 Normal\n",
      "24 Rain\n",
      "25 Rain-Thunderstorm\n",
      "26 total_docks\n",
      "27 business_day\n",
      "28 holiday\n",
      "29 year\n",
      "30 month\n",
      "31 weekday\n"
     ]
    }
   ],
   "source": [
    "print(\"Feature rank:\")\n",
    "\n",
    "count=0\n",
    "for feature in X_train:\n",
    "    print(count, feature)\n",
    "    count += 1"
   ]
  },
  {
   "cell_type": "code",
   "execution_count": 63,
   "metadata": {},
   "outputs": [
    {
     "name": "stdout",
     "output_type": "stream",
     "text": [
      "Feature Importance of model1\n",
      "\n",
      "1번째로 중요한 feature: \n",
      "business_day\n",
      "2번째로 중요한 feature: \n",
      "total_docks\n",
      "3번째로 중요한 feature: \n",
      "month\n",
      "4번째로 중요한 feature: \n",
      "max_temperature_f\n",
      "5번째로 중요한 feature: \n",
      "precipitation_inches\n",
      "6번째로 중요한 feature: \n",
      "weekday\n",
      "7번째로 중요한 feature: \n",
      "wind_dir_degrees\n",
      "8번째로 중요한 feature: \n",
      "year\n",
      "9번째로 중요한 feature: \n",
      "mean_temperature_f\n",
      "10번째로 중요한 feature: \n",
      "max_gust_speed_mph\n",
      "\n",
      "\n",
      "Feature Importance of model2\n",
      "\n",
      "1번째로 중요한 feature: \n",
      "business_day\n",
      "2번째로 중요한 feature: \n",
      "total_docks\n",
      "3번째로 중요한 feature: \n",
      "month\n",
      "4번째로 중요한 feature: \n",
      "max_temperature_f\n",
      "5번째로 중요한 feature: \n",
      "weekday\n",
      "6번째로 중요한 feature: \n",
      "precipitation_inches\n",
      "7번째로 중요한 feature: \n",
      "wind_dir_degrees\n",
      "8번째로 중요한 feature: \n",
      "min_dew_point_f\n",
      "9번째로 중요한 feature: \n",
      "year\n",
      "10번째로 중요한 feature: \n",
      "mean_wind_speed_mph\n"
     ]
    }
   ],
   "source": [
    "m1_feature=[]\n",
    "m2_feature=[]\n",
    "feature=np.array(model1.feature_importances_)\n",
    "feature=np.argsort(-feature)[:10]\n",
    "\n",
    "print(\"Feature Importance of model1\\n\")\n",
    "\n",
    "for i in range(0,10):\n",
    "    ind=feature[i]\n",
    "    print(\"%d번째로 중요한 feature: \" %(i+1))\n",
    "    print(X_train.columns.values[ind])\n",
    "    m1_feature.append(X_train.columns.values[ind])\n",
    "    \n",
    "print(\"\\n\")\n",
    "feature2=np.array(model2.feature_importances_)\n",
    "feature2=np.argsort(-feature2)[:10]\n",
    "\n",
    "print(\"Feature Importance of model2\\n\")\n",
    "\n",
    "for i in range(0,10):\n",
    "    ind=feature2[i]\n",
    "    print(\"%d번째로 중요한 feature: \" %(i+1))\n",
    "    print(X_train.columns.values[ind])\n",
    "    m2_feature.append(X_train.columns.values[ind])"
   ]
  },
  {
   "cell_type": "code",
   "execution_count": 65,
   "metadata": {},
   "outputs": [
    {
     "data": {
      "text/plain": [
       "['business_day',\n",
       " 'total_docks',\n",
       " 'month',\n",
       " 'max_temperature_f',\n",
       " 'precipitation_inches',\n",
       " 'weekday',\n",
       " 'wind_dir_degrees',\n",
       " 'year',\n",
       " 'mean_temperature_f',\n",
       " 'max_gust_speed_mph']"
      ]
     },
     "execution_count": 65,
     "metadata": {},
     "output_type": "execute_result"
    }
   ],
   "source": [
    "m1_feature    "
   ]
  },
  {
   "cell_type": "code",
   "execution_count": 66,
   "metadata": {},
   "outputs": [
    {
     "data": {
      "text/plain": [
       "['business_day',\n",
       " 'total_docks',\n",
       " 'month',\n",
       " 'max_temperature_f',\n",
       " 'weekday',\n",
       " 'precipitation_inches',\n",
       " 'wind_dir_degrees',\n",
       " 'min_dew_point_f',\n",
       " 'year',\n",
       " 'mean_wind_speed_mph']"
      ]
     },
     "execution_count": 66,
     "metadata": {},
     "output_type": "execute_result"
    }
   ],
   "source": [
    "m2_feature"
   ]
  }
 ],
 "metadata": {
  "kernelspec": {
   "display_name": "Python 3",
   "language": "python",
   "name": "python3"
  },
  "language_info": {
   "codemirror_mode": {
    "name": "ipython",
    "version": 3
   },
   "file_extension": ".py",
   "mimetype": "text/x-python",
   "name": "python",
   "nbconvert_exporter": "python",
   "pygments_lexer": "ipython3",
   "version": "3.7.6"
  }
 },
 "nbformat": 4,
 "nbformat_minor": 4
}
