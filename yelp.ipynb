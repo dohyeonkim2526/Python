{
  "nbformat": 4,
  "nbformat_minor": 0,
  "metadata": {
    "colab": {
      "name": "yelp.ipynb",
      "provenance": [],
      "collapsed_sections": [],
      "authorship_tag": "ABX9TyOaCdpRMSW38OAKN0lWZb2j",
      "include_colab_link": true
    },
    "kernelspec": {
      "name": "python3",
      "display_name": "Python 3"
    }
  },
  "cells": [
    {
      "cell_type": "markdown",
      "metadata": {
        "id": "view-in-github",
        "colab_type": "text"
      },
      "source": [
        "<a href=\"https://colab.research.google.com/github/dohyeonkim2526/Python-DataMining/blob/master/yelp.ipynb\" target=\"_parent\"><img src=\"https://colab.research.google.com/assets/colab-badge.svg\" alt=\"Open In Colab\"/></a>"
      ]
    },
    {
      "cell_type": "code",
      "metadata": {
        "id": "C_G-jPNuki41",
        "colab_type": "code",
        "colab": {
          "base_uri": "https://localhost:8080/",
          "height": 35
        },
        "outputId": "45ba85a7-c5e0-4ca3-9eab-8d5b3aa31906"
      },
      "source": [
        "from google.colab import drive\n",
        "import tensorflow as tf\n",
        "\n",
        "drive.mount('/content/gdrive')"
      ],
      "execution_count": null,
      "outputs": [
        {
          "output_type": "stream",
          "text": [
            "Drive already mounted at /content/gdrive; to attempt to forcibly remount, call drive.mount(\"/content/gdrive\", force_remount=True).\n"
          ],
          "name": "stdout"
        }
      ]
    },
    {
      "cell_type": "code",
      "metadata": {
        "id": "0TWn06uMm6aE",
        "colab_type": "code",
        "colab": {}
      },
      "source": [
        "import pandas as pd\n",
        "\n",
        "data='/content/gdrive/My Drive/yelp_labelled_dataset.csv'\n",
        "data=pd.read_csv(data, header=None)"
      ],
      "execution_count": null,
      "outputs": []
    },
    {
      "cell_type": "code",
      "metadata": {
        "id": "tRDGbtp3sbKE",
        "colab_type": "code",
        "colab": {}
      },
      "source": [
        "label=[]\n",
        "for i in range(data.shape[0]):\n",
        "  dt=data.iloc[i]\n",
        "  for j in range(data.shape[1]):\n",
        "    dt_val=dt[j]\n",
        "    if dt_val=='1' or dt_val=='0': #label 이 문자열인 경우\n",
        "      label.append(dt_val)\n",
        "    elif dt_val==1 or dt_val==0: #label 이 실수인 경우\n",
        "      label.append(dt_val)"
      ],
      "execution_count": null,
      "outputs": []
    },
    {
      "cell_type": "code",
      "metadata": {
        "id": "g1wZI7A8uQUT",
        "colab_type": "code",
        "colab": {
          "base_uri": "https://localhost:8080/",
          "height": 35
        },
        "outputId": "290f4f61-550a-4b35-9689-7fabe29a524b"
      },
      "source": [
        "print(len(label))"
      ],
      "execution_count": null,
      "outputs": [
        {
          "output_type": "stream",
          "text": [
            "992\n"
          ],
          "name": "stdout"
        }
      ]
    },
    {
      "cell_type": "code",
      "metadata": {
        "id": "4HRzPSjYvL6V",
        "colab_type": "code",
        "colab": {}
      },
      "source": [
        "data['label']=label"
      ],
      "execution_count": null,
      "outputs": []
    },
    {
      "cell_type": "code",
      "metadata": {
        "id": "2runQVNRvWsr",
        "colab_type": "code",
        "colab": {}
      },
      "source": [
        "data=data.fillna('NaN')"
      ],
      "execution_count": null,
      "outputs": []
    },
    {
      "cell_type": "code",
      "metadata": {
        "id": "UcxHwrPFo8rX",
        "colab_type": "code",
        "colab": {}
      },
      "source": [
        "import pandas as pd\n",
        "\n",
        "data['label']=data['label'].astype(int)"
      ],
      "execution_count": null,
      "outputs": []
    },
    {
      "cell_type": "code",
      "metadata": {
        "id": "db74M5T1BOrv",
        "colab_type": "code",
        "colab": {}
      },
      "source": [
        "del data[5]"
      ],
      "execution_count": null,
      "outputs": []
    },
    {
      "cell_type": "code",
      "metadata": {
        "id": "ppPKWpEWDDqi",
        "colab_type": "code",
        "colab": {}
      },
      "source": [
        "sentence=[]\n",
        "for i in range(data.shape[0]):\n",
        "  dt=data.iloc[i]\n",
        "  sen_list=[]\n",
        "  for j in range(data.shape[1]-1):\n",
        "    dt_val=dt[j]\n",
        "    if dt_val != '1' and dt_val != '0':\n",
        "        if dt_val is not 'NaN':\n",
        "          sen_list.append(dt_val)\n",
        "    else:\n",
        "      break\n",
        "  sentence.append(sen_list)"
      ],
      "execution_count": null,
      "outputs": []
    },
    {
      "cell_type": "code",
      "metadata": {
        "id": "Cbi4lKpPGrxX",
        "colab_type": "code",
        "colab": {
          "base_uri": "https://localhost:8080/",
          "height": 52
        },
        "outputId": "2d222403-488a-434d-f2c7-1f5dcbe4343d"
      },
      "source": [
        "#sentence[28]"
      ],
      "execution_count": null,
      "outputs": [
        {
          "output_type": "execute_result",
          "data": {
            "text/plain": [
              "['Took an hour to get our food only 4 tables in restaurant my food was Luke warm',\n",
              " ' Our sever was running around like he was totally overwhelmed.']"
            ]
          },
          "metadata": {
            "tags": []
          },
          "execution_count": 29
        }
      ]
    },
    {
      "cell_type": "code",
      "metadata": {
        "id": "105TOUkODSMD",
        "colab_type": "code",
        "colab": {}
      },
      "source": [
        "full_sen=[]\n",
        "for i in range(len(sentence)):\n",
        "  sen=sentence[i]\n",
        "  sen2=\", \".join(sen)\n",
        "  full_sen.append(sen2)"
      ],
      "execution_count": null,
      "outputs": []
    },
    {
      "cell_type": "code",
      "metadata": {
        "id": "LVbWSyZyDjhu",
        "colab_type": "code",
        "colab": {}
      },
      "source": [
        "data['sentence']=full_sen"
      ],
      "execution_count": null,
      "outputs": []
    },
    {
      "cell_type": "code",
      "metadata": {
        "id": "kkjzl22hDmtE",
        "colab_type": "code",
        "colab": {}
      },
      "source": [
        "data=data.drop(data.columns[[0,1,2,3,4]], axis=1)"
      ],
      "execution_count": null,
      "outputs": []
    },
    {
      "cell_type": "code",
      "metadata": {
        "id": "hpZ_SNUAD-Gr",
        "colab_type": "code",
        "colab": {}
      },
      "source": [
        "data=data[['sentence', 'label']]"
      ],
      "execution_count": null,
      "outputs": []
    },
    {
      "cell_type": "code",
      "metadata": {
        "id": "mcOthgfIG6D1",
        "colab_type": "code",
        "colab": {
          "base_uri": "https://localhost:8080/",
          "height": 391
        },
        "outputId": "ab2ea7c4-db91-415d-ef94-4b03882e05cc"
      },
      "source": [
        "data"
      ],
      "execution_count": null,
      "outputs": [
        {
          "output_type": "execute_result",
          "data": {
            "text/html": [
              "<div>\n",
              "<style scoped>\n",
              "    .dataframe tbody tr th:only-of-type {\n",
              "        vertical-align: middle;\n",
              "    }\n",
              "\n",
              "    .dataframe tbody tr th {\n",
              "        vertical-align: top;\n",
              "    }\n",
              "\n",
              "    .dataframe thead th {\n",
              "        text-align: right;\n",
              "    }\n",
              "</style>\n",
              "<table border=\"1\" class=\"dataframe\">\n",
              "  <thead>\n",
              "    <tr style=\"text-align: right;\">\n",
              "      <th></th>\n",
              "      <th>sentence</th>\n",
              "      <th>label</th>\n",
              "    </tr>\n",
              "  </thead>\n",
              "  <tbody>\n",
              "    <tr>\n",
              "      <th>0</th>\n",
              "      <td>Wow... Loved this place.</td>\n",
              "      <td>1</td>\n",
              "    </tr>\n",
              "    <tr>\n",
              "      <th>1</th>\n",
              "      <td>Crust is not good.</td>\n",
              "      <td>0</td>\n",
              "    </tr>\n",
              "    <tr>\n",
              "      <th>2</th>\n",
              "      <td>Not tasty and the texture was just nasty.</td>\n",
              "      <td>0</td>\n",
              "    </tr>\n",
              "    <tr>\n",
              "      <th>3</th>\n",
              "      <td>Stopped by during the late May bank holiday of...</td>\n",
              "      <td>1</td>\n",
              "    </tr>\n",
              "    <tr>\n",
              "      <th>4</th>\n",
              "      <td>The selection on the menu was great and so wer...</td>\n",
              "      <td>1</td>\n",
              "    </tr>\n",
              "    <tr>\n",
              "      <th>...</th>\n",
              "      <td>...</td>\n",
              "      <td>...</td>\n",
              "    </tr>\n",
              "    <tr>\n",
              "      <th>987</th>\n",
              "      <td>I think food should have flavor and texture an...</td>\n",
              "      <td>0</td>\n",
              "    </tr>\n",
              "    <tr>\n",
              "      <th>988</th>\n",
              "      <td>Appetite instantly gone.</td>\n",
              "      <td>0</td>\n",
              "    </tr>\n",
              "    <tr>\n",
              "      <th>989</th>\n",
              "      <td>Overall I was not impressed and would not go b...</td>\n",
              "      <td>0</td>\n",
              "    </tr>\n",
              "    <tr>\n",
              "      <th>990</th>\n",
              "      <td>The whole experience was underwhelming,  and I...</td>\n",
              "      <td>0</td>\n",
              "    </tr>\n",
              "    <tr>\n",
              "      <th>991</th>\n",
              "      <td>Then,  as if I hadn't wasted enough of my life...</td>\n",
              "      <td>0</td>\n",
              "    </tr>\n",
              "  </tbody>\n",
              "</table>\n",
              "<p>992 rows × 2 columns</p>\n",
              "</div>"
            ],
            "text/plain": [
              "                                              sentence  label\n",
              "0                             Wow... Loved this place.      1\n",
              "1                                   Crust is not good.      0\n",
              "2            Not tasty and the texture was just nasty.      0\n",
              "3    Stopped by during the late May bank holiday of...      1\n",
              "4    The selection on the menu was great and so wer...      1\n",
              "..                                                 ...    ...\n",
              "987  I think food should have flavor and texture an...      0\n",
              "988                           Appetite instantly gone.      0\n",
              "989  Overall I was not impressed and would not go b...      0\n",
              "990  The whole experience was underwhelming,  and I...      0\n",
              "991  Then,  as if I hadn't wasted enough of my life...      0\n",
              "\n",
              "[992 rows x 2 columns]"
            ]
          },
          "metadata": {
            "tags": []
          },
          "execution_count": 40
        }
      ]
    },
    {
      "cell_type": "code",
      "metadata": {
        "id": "tPqtzt0mFEiY",
        "colab_type": "code",
        "colab": {
          "base_uri": "https://localhost:8080/",
          "height": 35
        },
        "outputId": "e1917426-a534-4362-9c09-05715cdb2f6d"
      },
      "source": [
        "#sentence가 제대로 합쳐졌는지 확인\n",
        "#test=data.iloc[28]\n",
        "#print(test.sentence) "
      ],
      "execution_count": null,
      "outputs": [
        {
          "output_type": "stream",
          "text": [
            "Took an hour to get our food only 4 tables in restaurant my food was Luke warm,  Our sever was running around like he was totally overwhelmed.\n"
          ],
          "name": "stdout"
        }
      ]
    }
  ]
}