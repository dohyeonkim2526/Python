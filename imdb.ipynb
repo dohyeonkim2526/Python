{
  "nbformat": 4,
  "nbformat_minor": 0,
  "metadata": {
    "colab": {
      "name": "imdb.ipynb",
      "provenance": [],
      "collapsed_sections": [],
      "authorship_tag": "ABX9TyNoRgHdA5v2/a2wpbyVU8P0",
      "include_colab_link": true
    },
    "kernelspec": {
      "name": "python3",
      "display_name": "Python 3"
    }
  },
  "cells": [
    {
      "cell_type": "markdown",
      "metadata": {
        "id": "view-in-github",
        "colab_type": "text"
      },
      "source": [
        "<a href=\"https://colab.research.google.com/github/dohyeonkim2526/Python-DataMining/blob/master/imdb.ipynb\" target=\"_parent\"><img src=\"https://colab.research.google.com/assets/colab-badge.svg\" alt=\"Open In Colab\"/></a>"
      ]
    },
    {
      "cell_type": "code",
      "metadata": {
        "id": "HDnEDzYuHker",
        "colab_type": "code",
        "colab": {
          "base_uri": "https://localhost:8080/",
          "height": 54
        },
        "outputId": "2b06b944-1bb2-4d49-d4fe-acc9ed5f8750"
      },
      "source": [
        "from google.colab import drive\n",
        "\n",
        "drive.mount('/content/gdrive')"
      ],
      "execution_count": 9,
      "outputs": [
        {
          "output_type": "stream",
          "text": [
            "Drive already mounted at /content/gdrive; to attempt to forcibly remount, call drive.mount(\"/content/gdrive\", force_remount=True).\n"
          ],
          "name": "stdout"
        }
      ]
    },
    {
      "cell_type": "code",
      "metadata": {
        "id": "EwHtQWcWGpyB",
        "colab_type": "code",
        "colab": {}
      },
      "source": [
        "import pandas as pd\n",
        "\n",
        "data='/content/gdrive/My Drive/imdb_labelled_dataset.csv'\n",
        "data=pd.read_csv(data, header=None)"
      ],
      "execution_count": 58,
      "outputs": []
    },
    {
      "cell_type": "code",
      "metadata": {
        "id": "fNJxTRfwIBMB",
        "colab_type": "code",
        "colab": {
          "base_uri": "https://localhost:8080/",
          "height": 34
        },
        "outputId": "267e69be-29c4-4626-a572-9f458817b9be"
      },
      "source": [
        "for i in range(data.shape[0]):\n",
        "  dt=data.iloc[i]\n",
        "  find=False\n",
        "  for j in range(data.shape[1]):\n",
        "    dt_val=dt[j]\n",
        "    if dt_val == '1' or dt_val == '0': #label 이 문자열인 경우\n",
        "      find=True\n",
        "    if dt_val == 1 or dt_val == 0: #label이 실수인 경우\n",
        "      find=True\n",
        "  if find == False:\n",
        "    print(i)"
      ],
      "execution_count": 60,
      "outputs": [
        {
          "output_type": "stream",
          "text": [
            "30\n"
          ],
          "name": "stdout"
        }
      ]
    },
    {
      "cell_type": "code",
      "metadata": {
        "id": "BaZNmMOeJspH",
        "colab_type": "code",
        "colab": {}
      },
      "source": [
        "data=data.drop([30])  #label 이 없는 행 제거"
      ],
      "execution_count": 61,
      "outputs": []
    },
    {
      "cell_type": "code",
      "metadata": {
        "id": "2cfWbI9CJ3Ew",
        "colab_type": "code",
        "colab": {}
      },
      "source": [
        "data=data.fillna('NaN')"
      ],
      "execution_count": 62,
      "outputs": []
    },
    {
      "cell_type": "code",
      "metadata": {
        "id": "DEUdsvKiJ-RH",
        "colab_type": "code",
        "colab": {}
      },
      "source": [
        "label=[]\n",
        "for i in range(data.shape[0]):\n",
        "  dt=data.iloc[i]\n",
        "  for j in range(data.shape[1]):\n",
        "    dt_val=dt[j]\n",
        "    if dt_val == '1' or dt_val == '0':\n",
        "      label.append(dt_val)\n",
        "    if dt_val == 1 or dt_val == 0:\n",
        "      label.append(dt_val)"
      ],
      "execution_count": 63,
      "outputs": []
    },
    {
      "cell_type": "code",
      "metadata": {
        "id": "APTwF-oJKzWP",
        "colab_type": "code",
        "colab": {}
      },
      "source": [
        "data['label']=label"
      ],
      "execution_count": 64,
      "outputs": []
    },
    {
      "cell_type": "code",
      "metadata": {
        "id": "saM_qVNqK5Bu",
        "colab_type": "code",
        "colab": {}
      },
      "source": [
        "data['label']=data['label'].astype(int)"
      ],
      "execution_count": 52,
      "outputs": []
    },
    {
      "cell_type": "code",
      "metadata": {
        "id": "GFmwCSGJJ1B2",
        "colab_type": "code",
        "colab": {}
      },
      "source": [
        "del data[7]  #실수 label 제거"
      ],
      "execution_count": 71,
      "outputs": []
    },
    {
      "cell_type": "code",
      "metadata": {
        "id": "1yfQ8EiCKqqY",
        "colab_type": "code",
        "colab": {}
      },
      "source": [
        "sentence=[]\n",
        "for i in range(data.shape[0]):\n",
        "  dt=data.iloc[i]\n",
        "  sen_list=[]\n",
        "  for j in range(data.shape[1]-1):\n",
        "    dt_val=dt[j]\n",
        "    if dt_val != '1' and dt_val != '0':\n",
        "      if dt_val != 'NaN':\n",
        "        sen_list.append(dt_val)\n",
        "    else:\n",
        "       break \n",
        "  sentence.append(sen_list)"
      ],
      "execution_count": 80,
      "outputs": []
    },
    {
      "cell_type": "code",
      "metadata": {
        "id": "qq_4Aa9SM7BZ",
        "colab_type": "code",
        "colab": {
          "base_uri": "https://localhost:8080/",
          "height": 105
        },
        "outputId": "a6f8e912-d0d2-446e-eea9-c25e136e5fcd"
      },
      "source": [
        "sentence[0]"
      ],
      "execution_count": 84,
      "outputs": [
        {
          "output_type": "execute_result",
          "data": {
            "text/plain": [
              "['A very',\n",
              " ' very',\n",
              " ' very slow-moving',\n",
              " ' aimless movie about a distressed',\n",
              " ' drifting young man.  ']"
            ]
          },
          "metadata": {
            "tags": []
          },
          "execution_count": 84
        }
      ]
    },
    {
      "cell_type": "code",
      "metadata": {
        "id": "ElSEsiGjNWMv",
        "colab_type": "code",
        "colab": {}
      },
      "source": [
        "full_sen=[]\n",
        "for i in range(len(sentence)):\n",
        "  sen=sentence[i]\n",
        "  sen2=\", \".join(sen)\n",
        "  full_sen.append(sen2)"
      ],
      "execution_count": 85,
      "outputs": []
    },
    {
      "cell_type": "code",
      "metadata": {
        "id": "AJZupUQWNors",
        "colab_type": "code",
        "colab": {}
      },
      "source": [
        "data['sentence']=full_sen"
      ],
      "execution_count": 89,
      "outputs": []
    },
    {
      "cell_type": "code",
      "metadata": {
        "id": "8QFM9SmXNsxk",
        "colab_type": "code",
        "colab": {}
      },
      "source": [
        "data=data.drop(data.columns[[0,1,2,3,4,5,6]], axis=1)"
      ],
      "execution_count": 92,
      "outputs": []
    },
    {
      "cell_type": "code",
      "metadata": {
        "id": "rgiJJ3TjMobG",
        "colab_type": "code",
        "colab": {}
      },
      "source": [
        "data=data[['sentence', 'label']]"
      ],
      "execution_count": 94,
      "outputs": []
    },
    {
      "cell_type": "code",
      "metadata": {
        "id": "q4rA3LmvN6k2",
        "colab_type": "code",
        "colab": {
          "base_uri": "https://localhost:8080/",
          "height": 947
        },
        "outputId": "eef8a226-dea6-4fe7-ef72-29caf7fd2a6d"
      },
      "source": [
        "data"
      ],
      "execution_count": 98,
      "outputs": [
        {
          "output_type": "execute_result",
          "data": {
            "text/html": [
              "<div>\n",
              "<style scoped>\n",
              "    .dataframe tbody tr th:only-of-type {\n",
              "        vertical-align: middle;\n",
              "    }\n",
              "\n",
              "    .dataframe tbody tr th {\n",
              "        vertical-align: top;\n",
              "    }\n",
              "\n",
              "    .dataframe thead th {\n",
              "        text-align: right;\n",
              "    }\n",
              "</style>\n",
              "<table border=\"1\" class=\"dataframe\">\n",
              "  <thead>\n",
              "    <tr style=\"text-align: right;\">\n",
              "      <th></th>\n",
              "      <th>sentence</th>\n",
              "      <th>label</th>\n",
              "    </tr>\n",
              "  </thead>\n",
              "  <tbody>\n",
              "    <tr>\n",
              "      <th>0</th>\n",
              "      <td>A very,  very,  very slow-moving,  aimless mov...</td>\n",
              "      <td>0</td>\n",
              "    </tr>\n",
              "    <tr>\n",
              "      <th>1</th>\n",
              "      <td>Not sure who was more lost - the flat characte...</td>\n",
              "      <td>0</td>\n",
              "    </tr>\n",
              "    <tr>\n",
              "      <th>2</th>\n",
              "      <td>Attempting artiness with black &amp; white and cle...</td>\n",
              "      <td>0</td>\n",
              "    </tr>\n",
              "    <tr>\n",
              "      <th>3</th>\n",
              "      <td>Very little music or anything to speak of.</td>\n",
              "      <td>0</td>\n",
              "    </tr>\n",
              "    <tr>\n",
              "      <th>4</th>\n",
              "      <td>The best scene in the movie was when Gerardo i...</td>\n",
              "      <td>1</td>\n",
              "    </tr>\n",
              "    <tr>\n",
              "      <th>5</th>\n",
              "      <td>The rest of the movie lacks art,  charm,  mean...</td>\n",
              "      <td>0</td>\n",
              "    </tr>\n",
              "    <tr>\n",
              "      <th>6</th>\n",
              "      <td>Wasted two hours.</td>\n",
              "      <td>0</td>\n",
              "    </tr>\n",
              "    <tr>\n",
              "      <th>7</th>\n",
              "      <td>Saw the movie today and thought it was a good ...</td>\n",
              "      <td>1</td>\n",
              "    </tr>\n",
              "    <tr>\n",
              "      <th>8</th>\n",
              "      <td>A bit predictable.</td>\n",
              "      <td>0</td>\n",
              "    </tr>\n",
              "    <tr>\n",
              "      <th>9</th>\n",
              "      <td>Loved the casting of Jimmy Buffet as the scien...</td>\n",
              "      <td>1</td>\n",
              "    </tr>\n",
              "    <tr>\n",
              "      <th>10</th>\n",
              "      <td>And those baby owls were adorable.</td>\n",
              "      <td>1</td>\n",
              "    </tr>\n",
              "    <tr>\n",
              "      <th>11</th>\n",
              "      <td>The movie showed a lot of Florida at it's best...</td>\n",
              "      <td>1</td>\n",
              "    </tr>\n",
              "    <tr>\n",
              "      <th>12</th>\n",
              "      <td>The Songs Were The Best And The Muppets Were S...</td>\n",
              "      <td>1</td>\n",
              "    </tr>\n",
              "    <tr>\n",
              "      <th>13</th>\n",
              "      <td>It Was So Cool.</td>\n",
              "      <td>1</td>\n",
              "    </tr>\n",
              "    <tr>\n",
              "      <th>14</th>\n",
              "      <td>This is a very \"right on case\" movie that deli...</td>\n",
              "      <td>1</td>\n",
              "    </tr>\n",
              "    <tr>\n",
              "      <th>15</th>\n",
              "      <td>It had some average acting from the main perso...</td>\n",
              "      <td>0</td>\n",
              "    </tr>\n",
              "    <tr>\n",
              "      <th>16</th>\n",
              "      <td>This review is long overdue,  since I consider...</td>\n",
              "      <td>1</td>\n",
              "    </tr>\n",
              "    <tr>\n",
              "      <th>17</th>\n",
              "      <td>I'll put this gem up against any movie in term...</td>\n",
              "      <td>1</td>\n",
              "    </tr>\n",
              "    <tr>\n",
              "      <th>18</th>\n",
              "      <td>It's practically perfect in all of them  a tr...</td>\n",
              "      <td>1</td>\n",
              "    </tr>\n",
              "    <tr>\n",
              "      <th>19</th>\n",
              "      <td>The structure of this film is easily the most...</td>\n",
              "      <td>0</td>\n",
              "    </tr>\n",
              "    <tr>\n",
              "      <th>20</th>\n",
              "      <td>The movie is terribly boring in places.</td>\n",
              "      <td>0</td>\n",
              "    </tr>\n",
              "    <tr>\n",
              "      <th>21</th>\n",
              "      <td>The lighting is awful.</td>\n",
              "      <td>0</td>\n",
              "    </tr>\n",
              "    <tr>\n",
              "      <th>22</th>\n",
              "      <td>The film looks cheap and bland.</td>\n",
              "      <td>0</td>\n",
              "    </tr>\n",
              "    <tr>\n",
              "      <th>23</th>\n",
              "      <td>One of the most disappointing aspects is the l...</td>\n",
              "      <td>0</td>\n",
              "    </tr>\n",
              "    <tr>\n",
              "      <th>24</th>\n",
              "      <td>This convention never worked well in the past,...</td>\n",
              "      <td>0</td>\n",
              "    </tr>\n",
              "    <tr>\n",
              "      <th>25</th>\n",
              "      <td>The visual effects were AWFUL.</td>\n",
              "      <td>0</td>\n",
              "    </tr>\n",
              "    <tr>\n",
              "      <th>26</th>\n",
              "      <td>The CG opening sequence in space looked like i...</td>\n",
              "      <td>0</td>\n",
              "    </tr>\n",
              "    <tr>\n",
              "      <th>27</th>\n",
              "      <td>The \"explosion\" of the Gas tanks at the end wa...</td>\n",
              "      <td>0</td>\n",
              "    </tr>\n",
              "    <tr>\n",
              "      <th>28</th>\n",
              "      <td>Okay,  I like to consider myself a fair critic...</td>\n",
              "      <td>1</td>\n",
              "    </tr>\n",
              "    <tr>\n",
              "      <th>29</th>\n",
              "      <td>Gotta love those close-ups of slimy,  drooling...</td>\n",
              "      <td>1</td>\n",
              "    </tr>\n",
              "  </tbody>\n",
              "</table>\n",
              "</div>"
            ],
            "text/plain": [
              "                                             sentence label\n",
              "0   A very,  very,  very slow-moving,  aimless mov...     0\n",
              "1   Not sure who was more lost - the flat characte...     0\n",
              "2   Attempting artiness with black & white and cle...     0\n",
              "3        Very little music or anything to speak of.       0\n",
              "4   The best scene in the movie was when Gerardo i...     1\n",
              "5   The rest of the movie lacks art,  charm,  mean...     0\n",
              "6                                 Wasted two hours.       0\n",
              "7   Saw the movie today and thought it was a good ...     1\n",
              "8                                A bit predictable.       0\n",
              "9   Loved the casting of Jimmy Buffet as the scien...     1\n",
              "10               And those baby owls were adorable.       1\n",
              "11  The movie showed a lot of Florida at it's best...     1\n",
              "12  The Songs Were The Best And The Muppets Were S...     1\n",
              "13                                  It Was So Cool.       1\n",
              "14  This is a very \"right on case\" movie that deli...     1\n",
              "15  It had some average acting from the main perso...     0\n",
              "16  This review is long overdue,  since I consider...     1\n",
              "17  I'll put this gem up against any movie in term...     1\n",
              "18  It's practically perfect in all of them  a tr...     1\n",
              "19   The structure of this film is easily the most...     0\n",
              "20          The movie is terribly boring in places.       0\n",
              "21                           The lighting is awful.       0\n",
              "22                  The film looks cheap and bland.       0\n",
              "23  One of the most disappointing aspects is the l...     0\n",
              "24  This convention never worked well in the past,...     0\n",
              "25                   The visual effects were AWFUL.       0\n",
              "26  The CG opening sequence in space looked like i...     0\n",
              "27  The \"explosion\" of the Gas tanks at the end wa...     0\n",
              "28  Okay,  I like to consider myself a fair critic...     1\n",
              "29  Gotta love those close-ups of slimy,  drooling...     1"
            ]
          },
          "metadata": {
            "tags": []
          },
          "execution_count": 98
        }
      ]
    },
    {
      "cell_type": "code",
      "metadata": {
        "id": "xmDivpgGN8nk",
        "colab_type": "code",
        "colab": {
          "base_uri": "https://localhost:8080/",
          "height": 34
        },
        "outputId": "839cec57-0a50-411d-cd70-96eebf7a4f85"
      },
      "source": [
        "#문장이 잘 합쳐졌는지 확인\n",
        "#test=data.iloc[15]\n",
        "#print(test.sentence)"
      ],
      "execution_count": 103,
      "outputs": [
        {
          "output_type": "stream",
          "text": [
            "It had some average acting from the main person,  and it was a low budget as you clearly can see.  \n"
          ],
          "name": "stdout"
        }
      ]
    }
  ]
}